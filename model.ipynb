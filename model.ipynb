{
 "cells": [
  {
   "cell_type": "code",
   "execution_count": 1,
   "metadata": {},
   "outputs": [],
   "source": [
    "from model import *\n",
    "from torch.optim import AdamW,Adam\n",
    "from torch.nn.utils import clip_grad_value_"
   ]
  },
  {
   "cell_type": "code",
   "execution_count": 2,
   "metadata": {},
   "outputs": [],
   "source": [
    "transform = A.ShiftScaleRotate(shift_limit=0.05, scale_limit=0.05, rotate_limit=12, p=1)\n",
    "data_train = ImgDataset('omniglot-py/images_background',n,k,64,transform)\n",
    "data_train = DataLoader(data_train,b)\n",
    "data_val = ImgDataset('omniglot-py/images_evaluation',n,k,16,transform)\n",
    "data_val = DataLoader(data_val,b)"
   ]
  },
  {
   "cell_type": "code",
   "execution_count": 3,
   "metadata": {},
   "outputs": [],
   "source": [
    "lr = 1e-3\n",
    "clip = 1e-2\n",
    "epochs = 20"
   ]
  },
  {
   "cell_type": "code",
   "execution_count": 4,
   "metadata": {},
   "outputs": [],
   "source": [
    "model = AttenMeta(d, dropout,layers,True).to('cuda')\n",
    "paras = model.parameters()\n",
    "opt = AdamW(paras,lr = lr,amsgrad=True)\n",
    "#opt = Adam(paras,lr = lr)"
   ]
  },
  {
   "cell_type": "code",
   "execution_count": 5,
   "metadata": {},
   "outputs": [
    {
     "name": "stdout",
     "output_type": "stream",
     "text": [
      "epoch:0, train_loss:2.20591422460847, val_loss:1.9901869032118056\n",
      "epoch:1, train_loss:2.4035414639165844, val_loss:1.9908437463972304\n",
      "epoch:2, train_loss:1.9636973728567868, val_loss:1.9908438788519964\n",
      "epoch:3, train_loss:3.1592164463916066, val_loss:3.002240127987332\n",
      "epoch:4, train_loss:2.0346201193534723, val_loss:1.930519209967719\n",
      "epoch:5, train_loss:1.8811687554343273, val_loss:1.9914298587375217\n",
      "epoch:6, train_loss:1.874765004141856, val_loss:1.9827213552263048\n",
      "epoch:7, train_loss:1.875710143881329, val_loss:1.9845434029897053\n",
      "epoch:8, train_loss:1.8668965666981068, val_loss:1.989876561694675\n",
      "epoch:9, train_loss:1.8689891706078738, val_loss:1.9950204425387912\n",
      "epoch:10, train_loss:1.8592079029244892, val_loss:1.9965544011857774\n",
      "epoch:11, train_loss:1.8620023323317705, val_loss:1.9833628336588542\n",
      "epoch:12, train_loss:1.8591048818523601, val_loss:1.9900559054480658\n",
      "epoch:13, train_loss:1.8590969150349246, val_loss:1.9908437463972304\n",
      "epoch:14, train_loss:1.854126457440651, val_loss:1.9888687133789062\n",
      "epoch:15, train_loss:1.855829814733085, val_loss:1.989492310418023\n",
      "epoch:16, train_loss:1.852579826015537, val_loss:1.9867628150516086\n",
      "epoch:17, train_loss:1.8515021861609766, val_loss:1.9908429516686335\n",
      "epoch:18, train_loss:1.8500263953613023, val_loss:1.9908429516686335\n",
      "epoch:19, train_loss:1.8537948050741422, val_loss:1.9908429516686335\n"
     ]
    }
   ],
   "source": [
    "\n",
    "opt.zero_grad()\n",
    "for epoch in range(epochs):\n",
    "\n",
    "    model.train()\n",
    "    np.random.seed()\n",
    "    train_loss = 0\n",
    "    val_loss = 0\n",
    "    \n",
    "    # Training #\n",
    "    for i,x in enumerate(data_train):\n",
    "        x = x.to('cuda:0')\n",
    "        loss = model(x,True)\n",
    "        loss.backward()\n",
    "        clip_grad_value_(paras,clip)\n",
    "        opt.step()\n",
    "        opt.zero_grad()\n",
    "        train_loss += loss.item()\n",
    "        \n",
    "    # evaluating #\n",
    "    model.eval()\n",
    "    with torch.no_grad():\n",
    "        for j,data in enumerate(data_val):\n",
    "            x = x.to('cuda:0')\n",
    "            loss = model(x,True)\n",
    "            val_loss += loss.item()      \n",
    "    print('epoch:{}, train_loss:{}, val_loss:{}'.format(epoch,train_loss/i,val_loss/j))"
   ]
  },
  {
   "cell_type": "code",
   "execution_count": 6,
   "metadata": {},
   "outputs": [
    {
     "name": "stdout",
     "output_type": "stream",
     "text": [
      "tensor(0.2083, device='cuda:0')\n"
     ]
    }
   ],
   "source": [
    "acc = 0\n",
    "model.eval()\n",
    "with torch.no_grad():\n",
    "    for j,data in enumerate(data_val):\n",
    "        x = x.to('cuda:0')\n",
    "        yhat = model(x,False)\n",
    "        acc += torch.sum(yhat.argmax(-1).flatten() == model.y)/b/n\n",
    "print(acc/j)"
   ]
  },
  {
   "cell_type": "code",
   "execution_count": 11,
   "metadata": {},
   "outputs": [
    {
     "data": {
      "text/plain": [
       "(0.16666666666666666, 1.791759469228055)"
      ]
     },
     "execution_count": 11,
     "metadata": {},
     "output_type": "execute_result"
    }
   ],
   "source": [
    "1/6, -np.log(1/6)"
   ]
  }
 ],
 "metadata": {
  "kernelspec": {
   "display_name": "Python 3 (ipykernel)",
   "language": "python",
   "name": "python3"
  },
  "language_info": {
   "codemirror_mode": {
    "name": "ipython",
    "version": 3
   },
   "file_extension": ".py",
   "mimetype": "text/x-python",
   "name": "python",
   "nbconvert_exporter": "python",
   "pygments_lexer": "ipython3",
   "version": "3.10.9"
  }
 },
 "nbformat": 4,
 "nbformat_minor": 2
}
